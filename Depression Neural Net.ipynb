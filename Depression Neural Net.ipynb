{
 "cells": [
  {
   "cell_type": "markdown",
   "metadata": {},
   "source": [
    "## Import statements, install tensorflow if haven't yet"
   ]
  },
  {
   "cell_type": "code",
   "execution_count": 1,
   "metadata": {},
   "outputs": [],
   "source": [
    "import tensorflow as tf\n",
    "import numpy as np\n",
    "import pandas as pd\n",
    "from tensorflow import keras\n",
    "from tensorflow.keras.layers.experimental import preprocessing\n",
    "from tensorflow.keras.layers import Dense, Activation, Dropout\n",
    "from tensorflow.keras.optimizers import Adam\n",
    "import nltk \n",
    "import string\n",
    "import re"
   ]
  },
  {
   "cell_type": "markdown",
   "metadata": {},
   "source": [
    "## Load the dataset\n",
    "### Currently: dataset is tweetData.csv with 8 parameters and 1 label column, labels are 0 1 and 2 (not depressed, possibly depressed and depressed)"
   ]
  },
  {
   "cell_type": "code",
   "execution_count": 2,
   "metadata": {},
   "outputs": [
    {
     "data": {
      "text/html": [
       "<div>\n",
       "<style scoped>\n",
       "    .dataframe tbody tr th:only-of-type {\n",
       "        vertical-align: middle;\n",
       "    }\n",
       "\n",
       "    .dataframe tbody tr th {\n",
       "        vertical-align: top;\n",
       "    }\n",
       "\n",
       "    .dataframe thead th {\n",
       "        text-align: right;\n",
       "    }\n",
       "</style>\n",
       "<table border=\"1\" class=\"dataframe\">\n",
       "  <thead>\n",
       "    <tr style=\"text-align: right;\">\n",
       "      <th></th>\n",
       "      <th>label</th>\n",
       "      <th>polar</th>\n",
       "      <th>subjective</th>\n",
       "      <th>year</th>\n",
       "      <th>month</th>\n",
       "      <th>day</th>\n",
       "      <th>in_between</th>\n",
       "      <th>keyword_score</th>\n",
       "      <th>1stperson_score</th>\n",
       "    </tr>\n",
       "  </thead>\n",
       "  <tbody>\n",
       "    <tr>\n",
       "      <th>0</th>\n",
       "      <td>0.0</td>\n",
       "      <td>0.800000</td>\n",
       "      <td>0.750000</td>\n",
       "      <td>2021.0</td>\n",
       "      <td>4.0</td>\n",
       "      <td>21.0</td>\n",
       "      <td>0.0</td>\n",
       "      <td>0.0</td>\n",
       "      <td>0.0</td>\n",
       "    </tr>\n",
       "    <tr>\n",
       "      <th>1</th>\n",
       "      <td>0.0</td>\n",
       "      <td>-0.750000</td>\n",
       "      <td>1.000000</td>\n",
       "      <td>2021.0</td>\n",
       "      <td>4.0</td>\n",
       "      <td>17.0</td>\n",
       "      <td>4.0</td>\n",
       "      <td>0.0</td>\n",
       "      <td>1.0</td>\n",
       "    </tr>\n",
       "    <tr>\n",
       "      <th>2</th>\n",
       "      <td>0.0</td>\n",
       "      <td>0.045455</td>\n",
       "      <td>0.151515</td>\n",
       "      <td>2021.0</td>\n",
       "      <td>4.0</td>\n",
       "      <td>14.0</td>\n",
       "      <td>3.0</td>\n",
       "      <td>0.0</td>\n",
       "      <td>1.0</td>\n",
       "    </tr>\n",
       "    <tr>\n",
       "      <th>3</th>\n",
       "      <td>0.0</td>\n",
       "      <td>-0.200000</td>\n",
       "      <td>0.300000</td>\n",
       "      <td>2021.0</td>\n",
       "      <td>4.0</td>\n",
       "      <td>14.0</td>\n",
       "      <td>0.0</td>\n",
       "      <td>0.0</td>\n",
       "      <td>3.0</td>\n",
       "    </tr>\n",
       "    <tr>\n",
       "      <th>4</th>\n",
       "      <td>0.0</td>\n",
       "      <td>0.000000</td>\n",
       "      <td>0.000000</td>\n",
       "      <td>2021.0</td>\n",
       "      <td>4.0</td>\n",
       "      <td>12.0</td>\n",
       "      <td>2.0</td>\n",
       "      <td>0.0</td>\n",
       "      <td>2.0</td>\n",
       "    </tr>\n",
       "  </tbody>\n",
       "</table>\n",
       "</div>"
      ],
      "text/plain": [
       "   label     polar  subjective    year  month   day  in_between  \\\n",
       "0    0.0  0.800000    0.750000  2021.0    4.0  21.0         0.0   \n",
       "1    0.0 -0.750000    1.000000  2021.0    4.0  17.0         4.0   \n",
       "2    0.0  0.045455    0.151515  2021.0    4.0  14.0         3.0   \n",
       "3    0.0 -0.200000    0.300000  2021.0    4.0  14.0         0.0   \n",
       "4    0.0  0.000000    0.000000  2021.0    4.0  12.0         2.0   \n",
       "\n",
       "   keyword_score  1stperson_score  \n",
       "0            0.0              0.0  \n",
       "1            0.0              1.0  \n",
       "2            0.0              1.0  \n",
       "3            0.0              3.0  \n",
       "4            0.0              2.0  "
      ]
     },
     "execution_count": 2,
     "metadata": {},
     "output_type": "execute_result"
    }
   ],
   "source": [
    "# load csv, create labels and features\n",
    "tweets = pd.read_csv(\"tweetData.csv\")\n",
    "tweets_features = tweets.copy()\n",
    "tweets_labels = tweets_features.pop('label')\n",
    "tweets.head()"
   ]
  },
  {
   "cell_type": "markdown",
   "metadata": {},
   "source": [
    "## Preprocess our data\n",
    "### Create train and test datasets and randomize them. Here we also convert our labels into one-hot encoded vectors for multi class categorization"
   ]
  },
  {
   "cell_type": "code",
   "execution_count": 3,
   "metadata": {},
   "outputs": [],
   "source": [
    "x = tweets_features.dropna()\n",
    "y = tweets_labels.dropna()\n",
    "\n",
    "from sklearn import preprocessing\n",
    "from sklearn.model_selection import train_test_split\n",
    "\n",
    "# label_encoder object knows how to understand word labels.\n",
    "label_encoder = preprocessing.LabelEncoder()\n",
    "\n",
    "# Encode labels in tweets_labels.\n",
    "y = label_encoder.fit_transform(y)\n",
    "\n",
    "x_train, x_test, y_train, y_test = train_test_split(x, y, test_size=0.20, random_state=42)\n",
    "\n",
    "from tensorflow.keras.utils import to_categorical\n",
    "y_train = to_categorical(y_train)\n",
    "y_test = to_categorical(y_test)"
   ]
  },
  {
   "cell_type": "markdown",
   "metadata": {},
   "source": [
    "## Create the network\n",
    "### Currently: Sequential model with 4 hidden layers, the first one is 2 layers, our input layer taking in 8 parameters (all the number data) and the first hidden layer with 16 neurons. Then it has 2 more hidden layers with 32 neurons, a final hidden layer with 16, and an output layer with 3 neurons (its guessing 0 1 or 2)"
   ]
  },
  {
   "cell_type": "code",
   "execution_count": 4,
   "metadata": {},
   "outputs": [],
   "source": [
    "model = keras.Sequential([\n",
    "    Dense(units=16, input_dim=8, activation='relu'),\n",
    "    Dense(units=32, activation='relu'),\n",
    "    Dense(units=32, activation='relu'),\n",
    "    Dropout(0.5),\n",
    "    Dense(units=3, activation='softmax')\n",
    "])"
   ]
  },
  {
   "cell_type": "markdown",
   "metadata": {},
   "source": [
    "## Compile the model\n",
    "### Currently: Categorical cross entropy as loss function, Adam optimizer"
   ]
  },
  {
   "cell_type": "code",
   "execution_count": 5,
   "metadata": {},
   "outputs": [],
   "source": [
    "model.compile(loss='categorical_crossentropy', optimizer='adam', metrics=['acc'])"
   ]
  },
  {
   "cell_type": "markdown",
   "metadata": {},
   "source": [
    "## Print a summary of the model"
   ]
  },
  {
   "cell_type": "code",
   "execution_count": 6,
   "metadata": {},
   "outputs": [
    {
     "name": "stdout",
     "output_type": "stream",
     "text": [
      "Model: \"sequential\"\n",
      "_________________________________________________________________\n",
      "Layer (type)                 Output Shape              Param #   \n",
      "=================================================================\n",
      "dense (Dense)                (None, 16)                144       \n",
      "_________________________________________________________________\n",
      "dense_1 (Dense)              (None, 32)                544       \n",
      "_________________________________________________________________\n",
      "dense_2 (Dense)              (None, 32)                1056      \n",
      "_________________________________________________________________\n",
      "dropout (Dropout)            (None, 32)                0         \n",
      "_________________________________________________________________\n",
      "dense_3 (Dense)              (None, 3)                 99        \n",
      "=================================================================\n",
      "Total params: 1,843\n",
      "Trainable params: 1,843\n",
      "Non-trainable params: 0\n",
      "_________________________________________________________________\n"
     ]
    }
   ],
   "source": [
    "model.summary()"
   ]
  },
  {
   "cell_type": "markdown",
   "metadata": {},
   "source": [
    "## Print model layout"
   ]
  },
  {
   "cell_type": "code",
   "execution_count": 7,
   "metadata": {},
   "outputs": [
    {
     "data": {
      "image/png": "[encoded data removed]",
      "text/plain": [
       "<IPython.core.display.Image object>"
      ]
     },
     "execution_count": 7,
     "metadata": {},
     "output_type": "execute_result"
    }
   ],
   "source": [
    "from tensorflow.keras.utils import plot_model\n",
    "plot_model(model, to_file='model_plot2.png', show_shapes=True, show_layer_names=True)"
   ]
  },
  {
   "cell_type": "markdown",
   "metadata": {},
   "source": [
    "## Train the model with the training data"
   ]
  },
  {
   "cell_type": "code",
   "execution_count": 8,
   "metadata": {},
   "outputs": [
    {
     "name": "stdout",
     "output_type": "stream",
     "text": [
      "Epoch 1/20\n",
      "191/191 [==============================] - 4s 15ms/step - loss: 95.5888 - acc: 0.5359 - val_loss: 1.2698 - val_acc: 0.6805\n",
      "Epoch 2/20\n",
      "191/191 [==============================] - 1s 3ms/step - loss: 1.1446 - acc: 0.6934 - val_loss: 0.6777 - val_acc: 0.6805\n",
      "Epoch 3/20\n",
      "191/191 [==============================] - 1s 4ms/step - loss: 0.7387 - acc: 0.6928 - val_loss: 0.6698 - val_acc: 0.6805\n",
      "Epoch 4/20\n",
      "191/191 [==============================] - 1s 4ms/step - loss: 0.7520 - acc: 0.6886 - val_loss: 0.6716 - val_acc: 0.6805\n",
      "Epoch 5/20\n",
      "191/191 [==============================] - 1s 4ms/step - loss: 0.7469 - acc: 0.6812 - val_loss: 0.7022 - val_acc: 0.6805\n",
      "Epoch 6/20\n",
      "191/191 [==============================] - 1s 4ms/step - loss: 0.7580 - acc: 0.6762 - val_loss: 0.6912 - val_acc: 0.6805\n",
      "Epoch 7/20\n",
      "191/191 [==============================] - 1s 4ms/step - loss: 0.7204 - acc: 0.6888 - val_loss: 0.6946 - val_acc: 0.6805\n",
      "Epoch 8/20\n",
      "191/191 [==============================] - 1s 3ms/step - loss: 0.7227 - acc: 0.6876 - val_loss: 0.6743 - val_acc: 0.6805\n",
      "Epoch 9/20\n",
      "191/191 [==============================] - 1s 3ms/step - loss: 0.7075 - acc: 0.6908 - val_loss: 0.6741 - val_acc: 0.6805\n",
      "Epoch 10/20\n",
      "191/191 [==============================] - 1s 3ms/step - loss: 0.6907 - acc: 0.6878 - val_loss: 0.7163 - val_acc: 0.6805\n",
      "Epoch 11/20\n",
      "191/191 [==============================] - 1s 3ms/step - loss: 0.7101 - acc: 0.6863 - val_loss: 0.7033 - val_acc: 0.6805\n",
      "Epoch 12/20\n",
      "191/191 [==============================] - 1s 4ms/step - loss: 0.7071 - acc: 0.6788 - val_loss: 0.6952 - val_acc: 0.6805\n",
      "Epoch 13/20\n",
      "191/191 [==============================] - 1s 4ms/step - loss: 0.6831 - acc: 0.6960 - val_loss: 0.6896 - val_acc: 0.6805\n",
      "Epoch 14/20\n",
      "191/191 [==============================] - 1s 4ms/step - loss: 0.6895 - acc: 0.6871 - val_loss: 0.6856 - val_acc: 0.6805\n",
      "Epoch 15/20\n",
      "191/191 [==============================] - 1s 5ms/step - loss: 0.6746 - acc: 0.6950 - val_loss: 0.6829 - val_acc: 0.6805\n",
      "Epoch 16/20\n",
      "191/191 [==============================] - 1s 4ms/step - loss: 0.6920 - acc: 0.6799 - val_loss: 0.6807 - val_acc: 0.6805\n",
      "Epoch 17/20\n",
      "191/191 [==============================] - 1s 6ms/step - loss: 0.6767 - acc: 0.6906 - val_loss: 0.6788 - val_acc: 0.6805\n",
      "Epoch 18/20\n",
      "191/191 [==============================] - 1s 7ms/step - loss: 0.6783 - acc: 0.6918 - val_loss: 0.6774 - val_acc: 0.6805\n",
      "Epoch 19/20\n",
      "191/191 [==============================] - 1s 5ms/step - loss: 0.6730 - acc: 0.6868 - val_loss: 0.6763 - val_acc: 0.6805\n",
      "Epoch 20/20\n",
      "191/191 [==============================] - 1s 5ms/step - loss: 0.6746 - acc: 0.6878 - val_loss: 0.6754 - val_acc: 0.6805\n"
     ]
    }
   ],
   "source": [
    "history = model.fit(x_train, y_train, epochs=20, validation_split=0.2)"
   ]
  },
  {
   "cell_type": "markdown",
   "metadata": {},
   "source": [
    "## Evaluate the model using the testing data"
   ]
  },
  {
   "cell_type": "code",
   "execution_count": 9,
   "metadata": {},
   "outputs": [
    {
     "name": "stdout",
     "output_type": "stream",
     "text": [
      "60/60 [==============================] - 0s 1ms/step - loss: 0.6881 - acc: 0.6882\n",
      "Test Score: 0.6880855560302734\n",
      "Test Accuracy: 0.6882229447364807\n"
     ]
    }
   ],
   "source": [
    "score = model.evaluate(x_test, y_test, verbose=1)\n",
    "\n",
    "print(\"Test Score:\", score[0])\n",
    "print(\"Test Accuracy:\", score[1])"
   ]
  },
  {
   "cell_type": "markdown",
   "metadata": {},
   "source": [
    "## Graph the accuracy and loss against validation accuracy and loss "
   ]
  },
  {
   "cell_type": "code",
   "execution_count": 10,
   "metadata": {},
   "outputs": [
    {
     "data": {
      "image/png": "[encoded data removed]",
      "text/plain": [
       "<Figure size 432x288 with 1 Axes>"
      ]
     },
     "metadata": {
      "needs_background": "light"
     },
     "output_type": "display_data"
    },
    {
     "data": {
      "image/png": "[encoded data removed]",
      "text/plain": [
       "<Figure size 432x288 with 1 Axes>"
      ]
     },
     "metadata": {
      "needs_background": "light"
     },
     "output_type": "display_data"
    }
   ],
   "source": [
    "import matplotlib.pyplot as plt\n",
    "\n",
    "plt.plot(history.history['acc'])\n",
    "plt.plot(history.history['val_acc'])\n",
    "\n",
    "plt.title('model accuracy')\n",
    "plt.ylabel('accuracy')\n",
    "plt.xlabel('epoch')\n",
    "plt.legend(['train','test'], loc='upper left')\n",
    "plt.show()\n",
    "\n",
    "plt.plot(history.history['loss'])\n",
    "plt.plot(history.history['val_loss'])\n",
    "\n",
    "plt.title('model loss')\n",
    "plt.ylabel('loss')\n",
    "plt.xlabel('epoch')\n",
    "plt.legend(['train','test'], loc='upper left')\n",
    "plt.show()"
   ]
  },
  {
   "cell_type": "markdown",
   "metadata": {},
   "source": [
    "## Create predictions\n",
    "### For now we are using testData.csv, a csv file of a twitter account converted using the scraper bot"
   ]
  },
  {
   "cell_type": "code",
   "execution_count": 11,
   "metadata": {},
   "outputs": [
    {
     "data": {
      "text/html": [
       "<div>\n",
       "<style scoped>\n",
       "    .dataframe tbody tr th:only-of-type {\n",
       "        vertical-align: middle;\n",
       "    }\n",
       "\n",
       "    .dataframe tbody tr th {\n",
       "        vertical-align: top;\n",
       "    }\n",
       "\n",
       "    .dataframe thead th {\n",
       "        text-align: right;\n",
       "    }\n",
       "</style>\n",
       "<table border=\"1\" class=\"dataframe\">\n",
       "  <thead>\n",
       "    <tr style=\"text-align: right;\">\n",
       "      <th></th>\n",
       "      <th>polarity</th>\n",
       "      <th>subjectivivity</th>\n",
       "      <th>year</th>\n",
       "      <th>month</th>\n",
       "      <th>day</th>\n",
       "      <th>in_between</th>\n",
       "      <th>keyword_score</th>\n",
       "      <th>1stperson_score</th>\n",
       "    </tr>\n",
       "  </thead>\n",
       "  <tbody>\n",
       "    <tr>\n",
       "      <th>0</th>\n",
       "      <td>0.000000</td>\n",
       "      <td>0.000000</td>\n",
       "      <td>2021</td>\n",
       "      <td>4</td>\n",
       "      <td>29</td>\n",
       "      <td>0</td>\n",
       "      <td>0</td>\n",
       "      <td>1</td>\n",
       "    </tr>\n",
       "    <tr>\n",
       "      <th>1</th>\n",
       "      <td>0.800000</td>\n",
       "      <td>0.750000</td>\n",
       "      <td>2021</td>\n",
       "      <td>4</td>\n",
       "      <td>21</td>\n",
       "      <td>8</td>\n",
       "      <td>0</td>\n",
       "      <td>0</td>\n",
       "    </tr>\n",
       "    <tr>\n",
       "      <th>2</th>\n",
       "      <td>-0.750000</td>\n",
       "      <td>1.000000</td>\n",
       "      <td>2021</td>\n",
       "      <td>4</td>\n",
       "      <td>17</td>\n",
       "      <td>4</td>\n",
       "      <td>0</td>\n",
       "      <td>1</td>\n",
       "    </tr>\n",
       "    <tr>\n",
       "      <th>3</th>\n",
       "      <td>0.045455</td>\n",
       "      <td>0.151515</td>\n",
       "      <td>2021</td>\n",
       "      <td>4</td>\n",
       "      <td>14</td>\n",
       "      <td>3</td>\n",
       "      <td>0</td>\n",
       "      <td>1</td>\n",
       "    </tr>\n",
       "    <tr>\n",
       "      <th>4</th>\n",
       "      <td>-0.200000</td>\n",
       "      <td>0.300000</td>\n",
       "      <td>2021</td>\n",
       "      <td>4</td>\n",
       "      <td>14</td>\n",
       "      <td>0</td>\n",
       "      <td>0</td>\n",
       "      <td>3</td>\n",
       "    </tr>\n",
       "  </tbody>\n",
       "</table>\n",
       "</div>"
      ],
      "text/plain": [
       "   polarity  subjectivivity  year  month  day  in_between  keyword_score  \\\n",
       "0  0.000000        0.000000  2021      4   29           0              0   \n",
       "1  0.800000        0.750000  2021      4   21           8              0   \n",
       "2 -0.750000        1.000000  2021      4   17           4              0   \n",
       "3  0.045455        0.151515  2021      4   14           3              0   \n",
       "4 -0.200000        0.300000  2021      4   14           0              0   \n",
       "\n",
       "   1stperson_score  \n",
       "0                1  \n",
       "1                0  \n",
       "2                1  \n",
       "3                1  \n",
       "4                3  "
      ]
     },
     "execution_count": 11,
     "metadata": {},
     "output_type": "execute_result"
    }
   ],
   "source": [
    "pred_data = pd.read_csv(\"testData.csv\")\n",
    "valid = pred_data.pop(\"label\")\n",
    "pred_data.head()"
   ]
  },
  {
   "cell_type": "code",
   "execution_count": 12,
   "metadata": {},
   "outputs": [
    {
     "name": "stdout",
     "output_type": "stream",
     "text": [
      "Prediction: 0 (not depressed) Actual: 0 (not depressed)\n"
     ]
    }
   ],
   "source": [
    "prediction = np.argmax(model.predict(pred_data) > 0.5).astype(\"int32\")\n",
    "actual = valid.iloc[0]\n",
    "\n",
    "if prediction == 0:\n",
    "    prediction = str(prediction) + \" (not depressed)\"\n",
    "elif prediction == 1:\n",
    "    prediction = str(prediction) + \" (possibly depressed)\"\n",
    "elif actual == 2:\n",
    "    prediction = str(prediction) + \" (depressed)\"\n",
    "\n",
    "if actual == 0:\n",
    "    actual = str(actual) + \" (not depressed)\"\n",
    "elif actual == 1:\n",
    "    actual = str(actual) + \" (possibly depressed)\"\n",
    "elif actual == 2:\n",
    "    actual = str(actual) + \" (depressed)\"\n",
    "    \n",
    "\n",
    "print(\"Prediction:\", prediction ,\"Actual:\",actual)"
   ]
  },
  {
   "cell_type": "code",
   "execution_count": null,
   "metadata": {},
   "outputs": [],
   "source": []
  }
 ],
 "metadata": {
  "kernelspec": {
   "display_name": "Python 3",
   "language": "python",
   "name": "python3"
  },
  "language_info": {
   "codemirror_mode": {
    "name": "ipython",
    "version": 3
   },
   "file_extension": ".py",
   "mimetype": "text/x-python",
   "name": "python",
   "nbconvert_exporter": "python",
   "pygments_lexer": "ipython3",
   "version": "3.8.5"
  }
 },
 "nbformat": 4,
 "nbformat_minor": 4
}
